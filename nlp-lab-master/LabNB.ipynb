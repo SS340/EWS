{
 "cells": [
  {
   "cell_type": "code",
   "execution_count": 6,
   "metadata": {},
   "outputs": [
    {
     "name": "stdout",
     "output_type": "stream",
     "text": [
      "['Tata Motors to unveil production-ready e-car on Alpha architecture', 'Conclude Essar Steel insolvency case by January 31: NCLAT to NCLT', 'IndiGo plans global expansion with induction of 222-seater A321Neo planes', \"Moody's upgrades IDBI's foreign currency rating; outlook labeled positive\", 'Adani, IOC top investors on Day-1 of Tamil Nadu Global Investors Meet', 'Google tops positive buzz-creation list in 2018, WhatsApp at second', 'Maruti drives in all-new WagonR at a starting price of Rs 4.19 lakh', 'IndianOil signs Rs 16,641 cr MoU with Tamil Nadu at Global Investors Meet', \"Byju's eyeing 270% jump in revenues at Rs 1,400 crore in the current fiscal\", 'Tight regulations good for NBFCs, sends right message to consumers: Bajaj', 'Vodafone Idea prepares Rs 25,000-cr war chest to fight Mukesh Ambani', 'ITC posts net profit of Rs 3210 crore, the highest in last 17 quarters', \"SC refuses bail to Unitech's Chandra brothers for not deposting Rs 750 cr\", \"Essar Steel says offer by shareholders superior to ArcelorMittal's proposal\", 'TN Global Investors Meet: Adani Group to invest Rs 12,000 crore in state', 'Japanese carrier ANA Airline to start service from Japan to Chennai', 'Construction firm JMC Projects bags orders worth Rs 507 crore; shares rise', \"NCLT Ahmedabad can decide on Essar Steel's insolvency case by Jan 31: NCLAT\", 'Glenmark gets tentative nod from USFDA to market prostate cancer drug', \"Use Google's 'My Business' app? Now, share information via Maps and Search\", 'Viacom gets future ready; acquires streaming platform Pluto TV for $ 340 mn', 'Is merging Air India and Jet Airways the way to save the sinking airlines?', 'Microsoft seeks to restrict abuse of its AI-based facial recognition tech', 'IBM beats Q4 expectations, reports full-year revenue growth; shares jump 7%', 'Google spends record $21.2 mn on US lobbying amid anti-trust, bias battles', \"CRISIL downgrades bonds of IL&FS Transportation Networks unit to 'D'\", 'Sun Pharma to settle Dubai firm loans, shift distribution arm to subsidiary', 'IT firms looking at executing projects with a lesser number of employees', 'Air India plans to enter leisure travel space with packaged holidays', 'SBI sale of debt in Essar Steel not to stall IBC process, say sources', \"Crisil downgrades NCD of IL&FS' Jharkhand road project to junk grade\", 'Over the clouds: Indian aviation industry witnesses marginal fare hike', 'NCLAT defers hearing on a contempt petition against Anil Ambani', 'Zee Entertainment plans to ramp up presence in OTT service in global arena', 'Audi India sales on reverse gear, down 18% to 6,463 units in 2018', 'Govt looking at suggestions of raising upper age limit for Atal Pension Yojana', 'Trade portal launched for easier business between India and Africa, to work as market intelligence platform for F&B sector', 'Soon, use Internet on your phone through SMS! BSNL ties up with Be-Bound to work on new technology', 'Subhas Chandra Bose birthday: Mamata Banerjee lashes out at Centre for not declaring Netaji’s birth anniversary as national holiday', 'India vs New Zealand: Virat Kohli rested for last two ODIs, T20Is, Rohit Sharma to lead side', 'WATCH | Xiaomi reveals ‘world’s first’ double-folding phone', 'Supreme Court refuses bail to Unitech promoters in a case relating to siphoning home buyers’ money', 'Posters hailing Rahul Gandhi as next PM greet Congress chief on Amethi visit', 'Planning flight from Japan to Chennai? Now, book direct flight with this 5-star airline; check details', 'Budget 2019: Life insurance industry’s expectations from the Interim Budget', 'PM Modi’s swipe at Congress hours after Priyanka Gandhi’s political plunge: For some, family is the party', 'ICAI result 2018: CA Final, Foundation November exam results declared today at icai.nic.in- Check scorecard, merit list now', 'Essar Steel says Rs 54,389 crore offer by its shareholders superior to Rs 42k crore proposal of ArcelorMittal', 'TRAI launches app for DTH, cable TV viewers; select your channels and find out your total bill', 'Railway Recruitment 2019: Apply for RPF job vacancies at rpfonlinereg.org now – check 7th CPC salary, how to apply', 'WATCH: Artist celebrates Bal Thackeray’s birth anniversary, makes 3D portrait with 33,000 rudraksha seeds', 'India’s GDP growth may improve to 7.3% in FY20, says Crisil', 'Why micro-finance and women empowerment go hand-in-hand?', 'In Priyanka Gandhi’s political plunge, Congress senses opportunity to strike back', 'Reimagining India with a digital paintbrush: How digital transformation may boost GDP growth', 'India vs New Zealand: Watch MS Dhoni and Kuldeep Yadav plot Trent Boult’s dismissal', 'Bugdet 2019: Announce accidental insurance, concessional credit for traders: CAIT to PM', 'India-Malta relations: Building bridges at the phoenician crossroads of Mediterranean', 'Indian Railways jobs alert! Modi govt announces massive 2.3 lakh vacancies; new upper-caste quota applicable', 'Koffee with Karan 6: Filmmaker Karan Johar breaks silence on Hardik Pandya-KL Rahul episode', 'IndiGo Q3 net profit falls 75% on-year to Rs 191 crore; 3 key reasons behind slump', 'Modi’s direct tax overhaul at work: Relief for taxpayer, small businesses on cards as election looms', 'ITC share price plunges 5% after Q3 results; key things to know', 'Google created maximum ‘buzz’ in India in 2018; WhatsApp, YouTube follow: Report', 'Is Priyanka Gandhi’s political plunge Rahul Gandhi’s masterstroke? Here’s who said what', 'Nawaz Sharif’s condition very serious, says his doctor', 'Kumbh Mela 2019: Kinnar Akhadha backs Ram temple construction, performs Tantrik puja', '‘Most awaited’: Prashant Kishor reacts to Priyanka Gandhi’s appointment as Congress General Secretary', 'Shocking apathy! Patients in MP’s Guna hospital served food in their hands', 'Enjoying cash backs on payments apps, online deals, card payments? Beware! You may get a tax notice', 'Bonanza for Indian Railways passengers! Services of 22 trains extended; full list here', 'Citizenship Bill: Thousand flock Mizoram streets in protest, demand PM Modi, Rajnath Singh’s resignation', '‘I would go to a jungle for five days in a year’, Modi says encouraging youth to take time to introspect', 'Sachin Tendulkar launches Olympic gymnast Dipa Karmakar’s biography, The Small Wonder', 'UPSC recruitment 2019: NDA, NA (I) registration ending soon at upsc.gov.in – check salary, other details', 'BJP dubs Priyanka Gandhi’s appointment as Congress’ admission of Rahul Gandhi’s failure as leader', 'Lok Sabha elections 2019: Arunachal Pradesh seeks deployment of 60 CAPF companies', 'Priyanka Gandhi can energise the Congress in UP but electoral gains are a far cry', 'Vivo planning V11 Pro successor, could launch it in India in Q1', 'GST rollout biggest reform taken as part of systemic reform, says Nirmala Sitharaman', 'Rest in luxury on Indian Railways stations! New AC retiring room complex opens at Bilaspur station; pics here', 'Modi’s 10% quota gambit will backfire – Tejashwai Yadav explains why', 'Farm loan waiver: Opposition BJP stages walkout from Rajasthan Assembly', 'Jayalalithaa cannot be termed a convict in assets case, says Madras HC', 'No toll plazas on National Highways soon? NHAI plans to introduce on-board unit devices; how they will work', 'GDP a ‘fancy figure’, growth must translate to well being on ground, says Kamal Nath', 'Mukesh Ambani’s Reliance Retail only Indian firm on Deloitte’s top 250 retailers’ list; check first 3', 'Delhi to Leh in 20 hours by train! Indian Railways plans world’s highest Bilaspur-Manali-Leh line; 10 facts', 'Peace offering? Uddhav, Fadnavis to share stage at Thackeray Memorial ceremony', 'Union Budget 2019 Expert Opinion: Raghuram Rajan has a message for Modi government ahead of February 1', 'Pravasi Bharati Diwas 2019: Sushma Swaraj hails Hema Malini’s performance as ‘Adbhut, Avishwasniya, Akalpaniya’ – Watch Video', 'CBI books former Air India chief Arvind Jadhav in corruption case', 'India’s industrial activity likely to remain subdued in near term: Report', 'Netflix now lets you share TV shows, movies on Instagram', 'Hiring to rise in next 6 months; IT, BFSI, BPO to generate maximum jobs, says survey', 'Best FD interest rates in Small Finance banks: Check options with highest rates', '26/11 Mumbai attacks: Pakistan court halts proceedings to allow prosecution to get more witnesses', 'Surat couple’s defence of Rafale deal in wedding invitation catches PM Modi’s eye', '15 fake Google Play apps duped Android users, says researcher: How to protect your phone', 'Bogibeel bridge: How the newly launched longest rail-cum-road bridge is benefiting Indian Railways', 'Congress fields Priyanka Gandhi in Modi-Yogi bastion, appoints her AICC General Secretary East UP', 'Sabarimala row: Attacked after entering shrine, woman returns from hospital to locked home, takes refuge at One Stop Centre', 'Moto Razr, the iconic flip phone, could make a comeback: Here’s what we know', 'ISIS in India: Maharashtra ATS nabs 9 men for suspected links to dreaded terror outfit', 'Citizenship Amendment Bill: To calm nerves amid backlash, Centre mulls incentives for those who wish to settle outside North East', 'India among most innovative nations’ list for first time; check top five', 'What is Industry 4.0, why it offers huge opportunity for India?', 'Glenmark gets tentative USFDA nod for prostate cancer treatment drug', 'Senior executives wanted; hiring activity set to rise in these sectors', 'Rahul Gandhi in Amethi: Congress president embarks on two-day visit to parliamentary constituency', 'China conducts mock intercontinental ballistic missile strike exercise', 'Himachal Pradesh weather: Fresh snowfall in major tourist towns', 'Subhash Chandra Bose birthday: PM Modi inaugurates Museum dedicated to Netaji at Red Fort', 'Gujarat asks school officials to ban students from playing PUBG', 'Biggest fake currency seizure since demonetisation! Delhi Police arrest Bengal man with fake Rs 2,000 notes worth Rs 10 lakh', 'Why you should buy travel insurance as soon as you book a holiday abroad', 'Subhash Chandra Bose Jayanti: A tribute to Netaji on his 121st birth anniversary', 'Gujarat riots 2002: Supreme Court grants bail to 4 convicts in Naroda Patiya massacre case', 'Pravasi Bharatiya Divas 2019 Highlights: President Ram Nath Kovind confers Pravasi Bharatiya Samman Awards', 'Global businesses join hands for accelerating workplace inclusion of LGBTI community', 'Kartarpur corridor talks: MEA proposes dates for Pakistan delegation visit to work out modalities', 'Delhi weather today: Light rains forecast for city', 'Tonga: Whole country cut off from Facebook, YouTube', 'Modi government plans cheap loans to help small Indian businesses', 'US lawmakers reintroduce legislation enforcing fair trade with China', 'US confirms Taliban talks in Qatar, to negotiate an end of Afghanistan war', 'EBay CEO has a stark choice: Show growth or break up company', 'Share Market Highlights: Sensex closes 336 points down, Nifty below 10,850; ITC, M&M among top losers', 'Google set 2018 lobbying record as Washington techlash expands', 'Microsoft seeks to restrict abuse of its facial recognition AI', 'Asian shares dip, worries over growth and trade sour mood', 'India vs New Zealand highlights: Shikhar Dhawan helps visitors win first ODI by 8 wickets', 'Exposure to IL&FS: Government to ask RBI for relief to banks', 'An uphill job: EPFO data too erratic to carry conviction', 'Single-brand retail: Easier sourcing rule soon for big-ticket FDI', 'Ola to have 5,000 bike driver partners in Hyderabad', 'Awfis opens its 1st centre in Chandigarh; set to expand its footprint by 2X pan India in 2019', 'Ola, Uber fares: HC asks Maha govt to decide in 8 weeks', 'Over 100 Indian MSMEs to feature in Singapore export forum', 'Vivriti Capital appoints Namrata Kaul, Srinivasan Sridhar as independent directors to its board', 'IMT Ghaziabad holds Techstars Startup Weekend to build entrepreneurial thinking, nurture startup community', 'TReDS platform M1xchange raises Series-A funding from Mayfield and SIDBI Ventures', 'Zensar Tech to divest its non-core arms', 'GST audit: The last milestone in the journey of filing returns for FY 2017-18', 'SoftBank commits $400 million for babycare co FirstCry', 'Yeh dil maange more: Indian SMEs root for more sops in interim budget', 'Davos needs to start acting, stop emailing says F1 champ Rosberg', '$1 billion eBeauty spot up for grabs', 'Qbera plans to expand operations to 180 locations', 'IVCA: Relief on angel tax not enough for startups']\n"
     ]
    }
   ],
   "source": [
    "from newsstream_rss import feed_fetched\n",
    "headlines = [item for sublist in feed_fetched for item in sublist]\n",
    "headlines_ = [\n",
    "\"Indian court refuses to lift deadline for Kotak Mahindra stake dilution\",  \n",
    "\"Kotak Mahindra Bank surges on report of likely Berkshire investment\",\n",
    "\"Kotak Mahindra Bank jumps on report of Berkshire investment\", \n",
    "\"Kotak Mahindra Bank challenges RBI decision on preference shares\", \n",
    "\"High Court refuses to stay deadline for Kotak Mahindra Bank stake dilution: CNBC TV18\", \n",
    "\"Nifty, Stabe ensex rise; Kotak Mahindra Bank sees best day in nearly 9 years\",\n",
    "\"Expert Views: In surprise move, RBI Governor Urjit Patel steps down\", \n",
    "\"Indian shares rise; Kotak Mahindra Bank sees best day in nearly 9 yrs\", \n",
    "\"Indian shares rise; Kotak Mahindra Bank sees best day in nearly 9 yrs\" ]\n",
    "print(headlines)"
   ]
  },
  {
   "cell_type": "code",
   "execution_count": 1,
   "metadata": {
    "scrolled": true
   },
   "outputs": [
    {
     "ename": "ModuleNotFoundError",
     "evalue": "No module named 'syntax'",
     "output_type": "error",
     "traceback": [
      "\u001b[0;31m---------------------------------------------------------------------------\u001b[0m",
      "\u001b[0;31mModuleNotFoundError\u001b[0m                       Traceback (most recent call last)",
      "\u001b[0;32m<ipython-input-1-680edd3eda72>\u001b[0m in \u001b[0;36m<module>\u001b[0;34m()\u001b[0m\n\u001b[1;32m      1\u001b[0m \u001b[0;32mfrom\u001b[0m \u001b[0mmatplotlib\u001b[0m \u001b[0;32mimport\u001b[0m \u001b[0mpyplot\u001b[0m \u001b[0;32mas\u001b[0m \u001b[0mplt\u001b[0m\u001b[0;34m\u001b[0m\u001b[0;34m\u001b[0m\u001b[0m\n\u001b[0;32m----> 2\u001b[0;31m \u001b[0;32mfrom\u001b[0m \u001b[0msyntax\u001b[0m \u001b[0;32mimport\u001b[0m \u001b[0msyntax_s\u001b[0m\u001b[0;34m,\u001b[0m \u001b[0msyntax_score\u001b[0m\u001b[0;34m,\u001b[0m \u001b[0msyntax_list\u001b[0m\u001b[0;34m\u001b[0m\u001b[0;34m\u001b[0m\u001b[0m\n\u001b[0m\u001b[1;32m      3\u001b[0m \u001b[0my\u001b[0m \u001b[0;34m=\u001b[0m \u001b[0msyntax_score\u001b[0m\u001b[0;34m(\u001b[0m\u001b[0mheadlines\u001b[0m\u001b[0;34m)\u001b[0m\u001b[0;34m\u001b[0m\u001b[0;34m\u001b[0m\u001b[0m\n\u001b[1;32m      4\u001b[0m \u001b[0mx\u001b[0m \u001b[0;34m=\u001b[0m \u001b[0mlist\u001b[0m\u001b[0;34m(\u001b[0m\u001b[0mrange\u001b[0m\u001b[0;34m(\u001b[0m\u001b[0mlen\u001b[0m\u001b[0;34m(\u001b[0m\u001b[0mheadlines_\u001b[0m\u001b[0;34m)\u001b[0m\u001b[0;34m)\u001b[0m\u001b[0;34m)\u001b[0m\u001b[0;34m\u001b[0m\u001b[0;34m\u001b[0m\u001b[0m\n\u001b[1;32m      5\u001b[0m \u001b[0mavg\u001b[0m \u001b[0;34m=\u001b[0m \u001b[0msum\u001b[0m\u001b[0;34m(\u001b[0m\u001b[0my\u001b[0m\u001b[0;34m)\u001b[0m\u001b[0;34m/\u001b[0m\u001b[0mlen\u001b[0m\u001b[0;34m(\u001b[0m\u001b[0my\u001b[0m\u001b[0;34m)\u001b[0m\u001b[0;34m\u001b[0m\u001b[0;34m\u001b[0m\u001b[0m\n",
      "\u001b[0;31mModuleNotFoundError\u001b[0m: No module named 'syntax'"
     ]
    }
   ],
   "source": [
    "from matplotlib import pyplot as plt \n",
    "from syntax import syntax_s, syntax_score, syntax_list \n",
    "y = syntax_score(headlines)\n",
    "x = list(range(len(headlines_)))\n",
    "avg = sum(y)/len(y)\n",
    "plt.scatter(x,y)\n",
    "print(\"Average (unadjusted) risk score:\",int(avg))\n",
    "plt.show()"
   ]
  },
  {
   "cell_type": "raw",
   "metadata": {},
   "source": []
  },
  {
   "cell_type": "code",
   "execution_count": 4,
   "metadata": {},
   "outputs": [
    {
     "name": "stdout",
     "output_type": "stream",
     "text": [
      "Original headline:\n",
      "Indian court refuses to lift deadline for Kotak Mahindra stake dilution\n",
      "\n",
      "Key words and entities:\n",
      "Indian court\n",
      "deadline\n",
      "Kotak Mahindra stake dilution\n",
      "\n",
      "Risk score unadjusted: 7\n",
      "\n",
      "\n"
     ]
    }
   ],
   "source": [
    "import spacy\n",
    "from rel_extract import ner\n",
    "nlp = spacy.load('en_core_web_sm')\n",
    "# n1 = 134\n",
    "# n2 = 135\n",
    "# n3 = 136\n",
    "# n4 = 130\n",
    "n = 0\n",
    "obj = headlines_[n] \n",
    "#headlines[n] headline \n",
    "doc = nlp(obj)\n",
    "print(\"Original headline:\")\n",
    "print(obj)\n",
    "print(\"\")\n",
    "print(\"Key words and entities:\")\n",
    "for np in doc.noun_chunks:\n",
    "    print(np.text)\n",
    "print(\"\")\n",
    "print(\"Risk score unadjusted:\", sum(syntax_list(obj)))\n",
    "print(\"\")\n",
    "# print(\"Tagged entities:\")\n",
    "# print(ner(doc))\n",
    "print(\"\")\n"
   ]
  },
  {
   "cell_type": "code",
   "execution_count": 8,
   "metadata": {},
   "outputs": [
    {
     "ename": "OSError",
     "evalue": "~/Desktop/SNLP/stanford-corenlp-full-2018-10-05 is not a directory.",
     "output_type": "error",
     "traceback": [
      "\u001b[0;31m---------------------------------------------------------------------------\u001b[0m",
      "\u001b[0;31mOSError\u001b[0m                                   Traceback (most recent call last)",
      "\u001b[0;32m<ipython-input-8-a3c58b64220c>\u001b[0m in \u001b[0;36m<module>\u001b[0;34m()\u001b[0m\n\u001b[1;32m      1\u001b[0m \u001b[0;32mfrom\u001b[0m \u001b[0mstanfordcorenlp\u001b[0m \u001b[0;32mimport\u001b[0m \u001b[0mStanfordCoreNLP\u001b[0m\u001b[0;34m\u001b[0m\u001b[0;34m\u001b[0m\u001b[0m\n\u001b[1;32m      2\u001b[0m \u001b[0;34m\u001b[0m\u001b[0m\n\u001b[0;32m----> 3\u001b[0;31m \u001b[0mnlp\u001b[0m \u001b[0;34m=\u001b[0m \u001b[0mStanfordCoreNLP\u001b[0m\u001b[0;34m(\u001b[0m\u001b[0;34m'~/Desktop/SNLP/stanford-corenlp-full-2018-10-05'\u001b[0m\u001b[0;34m)\u001b[0m\u001b[0;34m\u001b[0m\u001b[0;34m\u001b[0m\u001b[0m\n\u001b[0m",
      "\u001b[0;32m/home/geist/.local/lib/python3.6/site-packages/stanfordcorenlp/corenlp.py\u001b[0m in \u001b[0;36m__init__\u001b[0;34m(self, path_or_host, port, memory, lang, timeout, quiet, logging_level)\u001b[0m\n\u001b[1;32m     49\u001b[0m             \u001b[0;31m# Check if the dir exists\u001b[0m\u001b[0;34m\u001b[0m\u001b[0;34m\u001b[0m\u001b[0;34m\u001b[0m\u001b[0m\n\u001b[1;32m     50\u001b[0m             \u001b[0;32mif\u001b[0m \u001b[0;32mnot\u001b[0m \u001b[0mos\u001b[0m\u001b[0;34m.\u001b[0m\u001b[0mpath\u001b[0m\u001b[0;34m.\u001b[0m\u001b[0misdir\u001b[0m\u001b[0;34m(\u001b[0m\u001b[0mself\u001b[0m\u001b[0;34m.\u001b[0m\u001b[0mpath_or_host\u001b[0m\u001b[0;34m)\u001b[0m\u001b[0;34m:\u001b[0m\u001b[0;34m\u001b[0m\u001b[0;34m\u001b[0m\u001b[0m\n\u001b[0;32m---> 51\u001b[0;31m                 \u001b[0;32mraise\u001b[0m \u001b[0mIOError\u001b[0m\u001b[0;34m(\u001b[0m\u001b[0mstr\u001b[0m\u001b[0;34m(\u001b[0m\u001b[0mself\u001b[0m\u001b[0;34m.\u001b[0m\u001b[0mpath_or_host\u001b[0m\u001b[0;34m)\u001b[0m \u001b[0;34m+\u001b[0m \u001b[0;34m' is not a directory.'\u001b[0m\u001b[0;34m)\u001b[0m\u001b[0;34m\u001b[0m\u001b[0;34m\u001b[0m\u001b[0m\n\u001b[0m\u001b[1;32m     52\u001b[0m             \u001b[0mdirectory\u001b[0m \u001b[0;34m=\u001b[0m \u001b[0mos\u001b[0m\u001b[0;34m.\u001b[0m\u001b[0mpath\u001b[0m\u001b[0;34m.\u001b[0m\u001b[0mnormpath\u001b[0m\u001b[0;34m(\u001b[0m\u001b[0mself\u001b[0m\u001b[0;34m.\u001b[0m\u001b[0mpath_or_host\u001b[0m\u001b[0;34m)\u001b[0m \u001b[0;34m+\u001b[0m \u001b[0mos\u001b[0m\u001b[0;34m.\u001b[0m\u001b[0msep\u001b[0m\u001b[0;34m\u001b[0m\u001b[0;34m\u001b[0m\u001b[0m\n\u001b[1;32m     53\u001b[0m             \u001b[0mself\u001b[0m\u001b[0;34m.\u001b[0m\u001b[0mclass_path_dir\u001b[0m \u001b[0;34m=\u001b[0m \u001b[0mdirectory\u001b[0m\u001b[0;34m\u001b[0m\u001b[0;34m\u001b[0m\u001b[0m\n",
      "\u001b[0;31mOSError\u001b[0m: ~/Desktop/SNLP/stanford-corenlp-full-2018-10-05 is not a directory."
     ]
    }
   ],
   "source": [
    "from stanfordcorenlp import StanfordCoreNLP\n",
    "\n",
    "nlp = StanfordCoreNLP('~/Desktop/SNLP/stanford-corenlp-full-2018-10-05')"
   ]
  },
  {
   "cell_type": "code",
   "execution_count": null,
   "metadata": {},
   "outputs": [],
   "source": []
  }
 ],
 "metadata": {
  "kernelspec": {
   "display_name": "Python 3",
   "language": "python",
   "name": "python3"
  },
  "language_info": {
   "codemirror_mode": {
    "name": "ipython",
    "version": 3
   },
   "file_extension": ".py",
   "mimetype": "text/x-python",
   "name": "python",
   "nbconvert_exporter": "python",
   "pygments_lexer": "ipython3",
   "version": "3.6.7"
  }
 },
 "nbformat": 4,
 "nbformat_minor": 2
}
